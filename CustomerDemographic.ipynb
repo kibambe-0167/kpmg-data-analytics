{
 "cells": [
  {
   "attachments": {},
   "cell_type": "markdown",
   "metadata": {},
   "source": [
    "## import packages"
   ]
  },
  {
   "cell_type": "code",
   "execution_count": 2,
   "metadata": {},
   "outputs": [],
   "source": [
    "import pandas as pd\n",
    "import seaborn as sns\n",
    "import matplotlib.pyplot as plt"
   ]
  },
  {
   "cell_type": "code",
   "execution_count": 3,
   "metadata": {},
   "outputs": [],
   "source": [
    "# func\n",
    "def freq_dis( column ):\n",
    "    '''returns a frequency distribution of a column.'''\n",
    "    d = {}\n",
    "    for i in list(column):\n",
    "        if i in d.keys(): d[i] += 1\n",
    "        else: d[i] = 1\n",
    "    # sort by value.\n",
    "    d = dict( sorted(d.items(), key=lambda x: x[1] ))\n",
    "    return d\n",
    "\n",
    "def validate_date_year(d):\n",
    "    '''validate date for analysis. check for dates that are more than 100 year old and to find outlines.'''\n",
    "    current_year = 2023\n",
    "    invalide_dates = {}\n",
    "    for i in list(d):\n",
    "        if i and len(i) > 0:\n",
    "            if (current_year - int(i.split('-')[0])) > 100:\n",
    "                if i in invalide_dates.keys():\n",
    "                    invalide_dates[i] += 1\n",
    "                else:\n",
    "                    invalide_dates[i] = 1\n",
    "    return invalide_dates\n",
    "\n",
    "def validate_date_month_day(d):\n",
    "    '''validate the month and day of the month from the data.'''\n",
    "    invalide_dates = {}\n",
    "    for i in list(d):\n",
    "        if i and len(i) > 0:\n",
    "            if not(int(i.split('-')[1]) > 0 and int(i.split('-')[1]) < 13) or not(int(i.split('-')[2]) > 0 and int(i.split('-')[2]) < 32):\n",
    "                if i in invalide_dates.keys():\n",
    "                    invalide_dates[i] += 1\n",
    "                else:\n",
    "                    invalide_dates[i] = 1\n",
    "    return invalide_dates"
   ]
  },
  {
   "attachments": {},
   "cell_type": "markdown",
   "metadata": {},
   "source": [
    "## load dataset from provided file, in the correct excel sheet"
   ]
  },
  {
   "cell_type": "code",
   "execution_count": 4,
   "metadata": {},
   "outputs": [
    {
     "name": "stderr",
     "output_type": "stream",
     "text": [
      "/var/folders/0r/13xz5g6j45589319bn94k47w0000gn/T/ipykernel_40356/613519421.py:1: FutureWarning: Inferring datetime64[ns] from data containing strings is deprecated and will be removed in a future version. To retain the old behavior explicitly pass Series(data, dtype=datetime64[ns])\n",
      "  df = pd.read_excel(\"./KPMG_VI_New_raw_data_update_final.xlsx\", sheet_name=\"CustomerDemographic\", header=1)\n"
     ]
    },
    {
     "data": {
      "text/html": [
       "<div>\n",
       "<style scoped>\n",
       "    .dataframe tbody tr th:only-of-type {\n",
       "        vertical-align: middle;\n",
       "    }\n",
       "\n",
       "    .dataframe tbody tr th {\n",
       "        vertical-align: top;\n",
       "    }\n",
       "\n",
       "    .dataframe thead th {\n",
       "        text-align: right;\n",
       "    }\n",
       "</style>\n",
       "<table border=\"1\" class=\"dataframe\">\n",
       "  <thead>\n",
       "    <tr style=\"text-align: right;\">\n",
       "      <th></th>\n",
       "      <th>customer_id</th>\n",
       "      <th>first_name</th>\n",
       "      <th>last_name</th>\n",
       "      <th>gender</th>\n",
       "      <th>past_3_years_bike_related_purchases</th>\n",
       "      <th>DOB</th>\n",
       "      <th>job_title</th>\n",
       "      <th>job_industry_category</th>\n",
       "      <th>wealth_segment</th>\n",
       "      <th>deceased_indicator</th>\n",
       "      <th>default</th>\n",
       "      <th>owns_car</th>\n",
       "      <th>tenure</th>\n",
       "    </tr>\n",
       "  </thead>\n",
       "  <tbody>\n",
       "    <tr>\n",
       "      <th>0</th>\n",
       "      <td>1</td>\n",
       "      <td>Laraine</td>\n",
       "      <td>Medendorp</td>\n",
       "      <td>F</td>\n",
       "      <td>93</td>\n",
       "      <td>1953-10-12</td>\n",
       "      <td>Executive Secretary</td>\n",
       "      <td>Health</td>\n",
       "      <td>Mass Customer</td>\n",
       "      <td>N</td>\n",
       "      <td>\"'</td>\n",
       "      <td>Yes</td>\n",
       "      <td>11.0</td>\n",
       "    </tr>\n",
       "    <tr>\n",
       "      <th>1</th>\n",
       "      <td>2</td>\n",
       "      <td>Eli</td>\n",
       "      <td>Bockman</td>\n",
       "      <td>Male</td>\n",
       "      <td>81</td>\n",
       "      <td>1980-12-16</td>\n",
       "      <td>Administrative Officer</td>\n",
       "      <td>Financial Services</td>\n",
       "      <td>Mass Customer</td>\n",
       "      <td>N</td>\n",
       "      <td>&lt;script&gt;alert('hi')&lt;/script&gt;</td>\n",
       "      <td>Yes</td>\n",
       "      <td>16.0</td>\n",
       "    </tr>\n",
       "    <tr>\n",
       "      <th>2</th>\n",
       "      <td>3</td>\n",
       "      <td>Arlin</td>\n",
       "      <td>Dearle</td>\n",
       "      <td>Male</td>\n",
       "      <td>61</td>\n",
       "      <td>1954-01-20</td>\n",
       "      <td>Recruiting Manager</td>\n",
       "      <td>Property</td>\n",
       "      <td>Mass Customer</td>\n",
       "      <td>N</td>\n",
       "      <td>2018-02-01 00:00:00</td>\n",
       "      <td>Yes</td>\n",
       "      <td>15.0</td>\n",
       "    </tr>\n",
       "    <tr>\n",
       "      <th>3</th>\n",
       "      <td>4</td>\n",
       "      <td>Talbot</td>\n",
       "      <td>NaN</td>\n",
       "      <td>Male</td>\n",
       "      <td>33</td>\n",
       "      <td>1961-10-03</td>\n",
       "      <td>NaN</td>\n",
       "      <td>IT</td>\n",
       "      <td>Mass Customer</td>\n",
       "      <td>N</td>\n",
       "      <td>() { _; } &gt;_[$($())] { touch /tmp/blns.shellsh...</td>\n",
       "      <td>No</td>\n",
       "      <td>7.0</td>\n",
       "    </tr>\n",
       "    <tr>\n",
       "      <th>4</th>\n",
       "      <td>5</td>\n",
       "      <td>Sheila-kathryn</td>\n",
       "      <td>Calton</td>\n",
       "      <td>Female</td>\n",
       "      <td>56</td>\n",
       "      <td>1977-05-13</td>\n",
       "      <td>Senior Editor</td>\n",
       "      <td>NaN</td>\n",
       "      <td>Affluent Customer</td>\n",
       "      <td>N</td>\n",
       "      <td>NIL</td>\n",
       "      <td>Yes</td>\n",
       "      <td>8.0</td>\n",
       "    </tr>\n",
       "  </tbody>\n",
       "</table>\n",
       "</div>"
      ],
      "text/plain": [
       "   customer_id      first_name  last_name  gender  \\\n",
       "0            1         Laraine  Medendorp       F   \n",
       "1            2             Eli    Bockman    Male   \n",
       "2            3           Arlin     Dearle    Male   \n",
       "3            4          Talbot        NaN    Male   \n",
       "4            5  Sheila-kathryn     Calton  Female   \n",
       "\n",
       "   past_3_years_bike_related_purchases        DOB               job_title  \\\n",
       "0                                   93 1953-10-12     Executive Secretary   \n",
       "1                                   81 1980-12-16  Administrative Officer   \n",
       "2                                   61 1954-01-20      Recruiting Manager   \n",
       "3                                   33 1961-10-03                     NaN   \n",
       "4                                   56 1977-05-13           Senior Editor   \n",
       "\n",
       "  job_industry_category     wealth_segment deceased_indicator  \\\n",
       "0                Health      Mass Customer                  N   \n",
       "1    Financial Services      Mass Customer                  N   \n",
       "2              Property      Mass Customer                  N   \n",
       "3                    IT      Mass Customer                  N   \n",
       "4                   NaN  Affluent Customer                  N   \n",
       "\n",
       "                                             default owns_car  tenure  \n",
       "0                                                 \"'      Yes    11.0  \n",
       "1                       <script>alert('hi')</script>      Yes    16.0  \n",
       "2                                2018-02-01 00:00:00      Yes    15.0  \n",
       "3  () { _; } >_[$($())] { touch /tmp/blns.shellsh...       No     7.0  \n",
       "4                                                NIL      Yes     8.0  "
      ]
     },
     "execution_count": 4,
     "metadata": {},
     "output_type": "execute_result"
    }
   ],
   "source": [
    "df = pd.read_excel(\"./KPMG_VI_New_raw_data_update_final.xlsx\", sheet_name=\"CustomerDemographic\", header=1)\n",
    "df.head()"
   ]
  },
  {
   "cell_type": "code",
   "execution_count": 5,
   "metadata": {},
   "outputs": [
    {
     "name": "stdout",
     "output_type": "stream",
     "text": [
      "feature sample shape: (4000,)\n",
      "unique values: [11. 16. 15.  7.  8. 13. 20.  9.  6.  1. 18. 21. 12. 19. 14.  4. 22.  5.\n",
      " 17.  2.  3. 10. nan]\n",
      "data distribution: {nan: 1, nan: 1, nan: 1, nan: 1, nan: 1, nan: 1, nan: 1, nan: 1, nan: 1, nan: 1, nan: 1, nan: 1, nan: 1, nan: 1, nan: 1, nan: 1, nan: 1, nan: 1, nan: 1, nan: 1, nan: 1, nan: 1, nan: 1, nan: 1, nan: 1, nan: 1, nan: 1, nan: 1, nan: 1, nan: 1, nan: 1, nan: 1, nan: 1, nan: 1, nan: 1, nan: 1, nan: 1, nan: 1, nan: 1, nan: 1, nan: 1, nan: 1, nan: 1, nan: 1, nan: 1, nan: 1, nan: 1, nan: 1, nan: 1, nan: 1, nan: 1, nan: 1, nan: 1, nan: 1, nan: 1, nan: 1, nan: 1, nan: 1, nan: 1, nan: 1, nan: 1, nan: 1, nan: 1, nan: 1, nan: 1, nan: 1, nan: 1, nan: 1, nan: 1, nan: 1, nan: 1, nan: 1, nan: 1, nan: 1, nan: 1, nan: 1, nan: 1, nan: 1, nan: 1, nan: 1, nan: 1, nan: 1, nan: 1, nan: 1, nan: 1, nan: 1, nan: 1, 21.0: 54, 22.0: 55, 20.0: 96, 2.0: 150, 19.0: 159, 3.0: 160, 1.0: 166, 15.0: 179, 17.0: 182, 13.0: 191, 4.0: 191, 6.0: 192, 9.0: 200, 14.0: 200, 12.0: 202, 18.0: 208, 8.0: 211, 16.0: 215, 10.0: 218, 11.0: 221, 5.0: 228, 7.0: 235}\n",
      "\n",
      "feature description:\n",
      "count    3913.000000\n",
      "mean       10.657041\n",
      "std         5.660146\n",
      "min         1.000000\n",
      "25%         6.000000\n",
      "50%        11.000000\n",
      "75%        15.000000\n",
      "max        22.000000\n",
      "Name: tenure, dtype: float64\n",
      "\n",
      "feature value counts:\n",
      "7.0     235\n",
      "5.0     228\n",
      "11.0    221\n",
      "10.0    218\n",
      "16.0    215\n",
      "8.0     211\n",
      "18.0    208\n",
      "12.0    202\n",
      "9.0     200\n",
      "14.0    200\n",
      "6.0     192\n",
      "13.0    191\n",
      "4.0     191\n",
      "17.0    182\n",
      "15.0    179\n",
      "1.0     166\n",
      "3.0     160\n",
      "19.0    159\n",
      "2.0     150\n",
      "20.0     96\n",
      "22.0     55\n",
      "21.0     54\n",
      "Name: tenure, dtype: int64\n"
     ]
    }
   ],
   "source": [
    "# check tenure\n",
    "tenure = df['tenure']\n",
    "print(f\"feature sample shape: {tenure.shape}\" )\n",
    "print(f\"unique values: {tenure.unique()}\")\n",
    "print(f\"data distribution: { freq_dis(tenure)}\" )\n",
    "print(f\"\\nfeature description:\\n{tenure.describe()}\" )\n",
    "print(f\"\\nfeature value counts:\\n{tenure.value_counts()}\" )\n",
    "# "
   ]
  },
  {
   "cell_type": "code",
   "execution_count": 6,
   "metadata": {},
   "outputs": [
    {
     "name": "stdout",
     "output_type": "stream",
     "text": [
      "feature sample shape: (4000,)\n",
      "unique values: ['Yes' 'No']\n",
      "data distribution: {'No': 1976, 'Yes': 2024}\n"
     ]
    }
   ],
   "source": [
    "# check owns_car feature\n",
    "owns_car = df['owns_car']\n",
    "print(f\"feature sample shape: {owns_car.shape}\" )\n",
    "print(f\"unique values: {owns_car.unique()}\" )\n",
    "print(f\"data distribution: { freq_dis(owns_car)}\" )"
   ]
  },
  {
   "cell_type": "code",
   "execution_count": 7,
   "metadata": {},
   "outputs": [
    {
     "data": {
      "text/plain": [
       "array(['\"\\'', \"<script>alert('hi')</script>\",\n",
       "       datetime.datetime(2018, 2, 1, 0, 0),\n",
       "       '() { _; } >_[$($())] { touch /tmp/blns.shellshock2.fail; }',\n",
       "       'NIL', 'ðµ ð ð ð', 'â°â´âµâââ', '(â¯Â°â¡Â°ï¼â¯ï¸µ â»ââ»)', '0/0',\n",
       "       'ð©ð½', 'ÅâÂ´Â®â\\xa0Â¥Â¨ËÃ¸Ïââ', 'nil', -100, 'â°â´âµ', 'ð',\n",
       "       1000000000000000049861653971908893017010268485438462151574892930611988399099305815384459015356416,\n",
       "       'ï¾ï½¥â¿ã¾â²(ï½¡ââ¿âï½¡)â±â¿ï½¥ï¾', 'Î©âÃ§ââ«ËÂµâ¤â¥Ã·',\n",
       "       'ÅâÂ´â°ËÃÂ¨ËÃâââ', 'ï¼ï¼ï¼',\n",
       "       '../../../../../../../../../../../etc/hosts',\n",
       "       '×Ö¸×Ö°×ªÖ¸×testØ§ÙØµÙØ\\xadØ§Øª Ø§ÙØªÙØ\\xadÙÙ', '<>?:\"{}|_+',\n",
       "       '\\'\\'\\'\"', \",./;'[]\\\\-=\",\n",
       "       '() { 0; }; touch /tmp/blns.shellshock1.fail;',\n",
       "       'ì¬íê³¼íì ì´íì°êµ¬ì', 'testâ\\xa0testâ«',\n",
       "       '0ï¸â£ 1ï¸â£ 2ï¸â£ 3ï¸â£ 4ï¸â£ 5ï¸â£ 6ï¸â£ 7ï¸â£ 8ï¸â£ 9ï¸â£ ð',\n",
       "       nan, '!@#$%^&*()',\n",
       "       'Ì¦HÍÌ¬Ì¤ÌÌ¤eÍ ÍÌÌ¥ÌÌ»ÍÌwÌhÌÌ¯ÍoÌÍÌÍÌ±Ì® ÒÌºÌÌÌÍWÌ·Ì¼Ì\\xadaÌºÌªÍiÌ¨ÍÍÌ\\xadÍÌ¯ÌtÌ¶Ì¼Ì®sÌÌÍÍ Ì\\xa0Ì«Ì\\xa0BÌ»ÍÍÍÍÌ³eÌµhÌµÌ¬ÍÌ«ÍiÌÌ¹ÍÌ³Ì³Ì®ÍÌ«nÍdÌ´ÌªÌÌ ÍÌ°ÍÌ©ÍÍÍÌ²TÍ¢ÍÌ¼ÍÌªhÍÍÌ®Ì»eÌ¬ÌÍÌ Ì¤Ì¹ÌWÍÍÍÌÌÍÍaÍÍÍÌ¹Ì¼',\n",
       "       '../../../../../../../../../../../etc/passwd%00', 'åè£½æ¼¢èª',\n",
       "       '`ââ¬â¹âºï¬ï¬â¡Â°Â·ââÂ±', 'ãã¼ãã£ã¼ã¸è¡ããªãã', 1, -0.5,\n",
       "       'ZÌ®ÌÍÌ\\xa0ÍÍAÌ¥ÌÌÍÌ»ÌLÌ£ÍÍÌ¯Ì¹ÌÍGÌ»OÌ\\xadÌÌ®', 'ã', 100,\n",
       "       '1;DROP TABLE users', -1, 'á', '(ï¾à²¥çà²¥ï¼ï¾ï»¿ â»ââ»', '00ËÆ$-',\n",
       "       '1/0', 'ï½ï½¨(Â´âï½â©', \"<svg><script>0<1>alert('XSS')</script>\",\n",
       "       'âââ', 'ã»(ï¿£âï¿£)ã»:*:', ',ãã»:*:ã»ãâ( â» Ï â» )ãã»:*:ã»ãâ',\n",
       "       'â¢', 'ç°ä¸\\xadããã«ããã¦ä¸ãã', '__ï¾(,_,*)', 'Ù¡Ù¢Ù£',\n",
       "       'Ø«Ù ÙÙØ³ Ø³ÙØ·Øª ÙØ¨Ø§ÙØªØ\\xadØ¯ÙØ¯Ø, Ø¬Ø²ÙØ±ØªÙ Ø¨Ø§Ø³ØªØ®Ø¯Ø§Ù Ø£Ù Ø¯ÙÙ. Ø¥Ø° ÙÙØ§Ø Ø§ÙØ³ØªØ§Ø± ÙØªÙØµÙØ¨ ÙØ§Ù. Ø£ÙÙÙ Ø§ÙØ·Ø§ÙÙØ§Ø Ø¨Ø±ÙØ·Ø§ÙÙØ§-ÙØ±ÙØ³Ø§ ÙØ¯ Ø£Ø®Ø°. Ø³ÙÙÙØ§ÙØ Ø¥ØªÙØ§ÙÙØ© Ø¨ÙÙ ÙØ§, ÙØ°ÙØ± Ø',\n",
       "       'ð¾ ð ð ð ð ð ð ð§', \"<img src=x onerror=alert('hi') />\",\n",
       "       'ã½à¼¼àºÙÍàºà¼½ï¾ ã½à¼¼àºÙÍàºà¼½ï¾', 'âð¿ ðªð¿ ðð¿ ðð¿ ðð¿ ðð¿',\n",
       "       'TÌÌ\\xadÌºÌºoÍ Ì·iÌ²Ì¬ÍÌªÍnÌÌÍvÍÌÌÌÌ¦oÌ¶ÌÌ°Ì\\xa0keÍÍÌ®ÌºÌªÌ¹Ì±Ì¤ ÌtÍÌÍÌ³Ì£Ì»ÌªhÌ¼ÍÌ²Ì¦Ì³ÌÌ²eÍÌ£Ì°Ì¦Ì¬Í Ì¢Ì¼Ì»Ì±ÌhÍÍÍÍÌÌ£Ì²iÌ¦Ì²Ì£Ì°Ì¤vÌ»ÍeÌºÌ\\xadÌ³ÌªÌ°-mÌ¢iÍnÌÌºÌÌ²Ì¯Ì°dÌµÌ¼ÌÍÌ©Ì¼ÌÌ³ ÌÌ¥Ì±Ì³Ì\\xadrÌÌÌeÍpÍ\\xa0rÌ¼ÌÌ»Ì\\xadÌeÍÌºÌ\\xa0Ì£sÌ',\n",
       "       'ÃÃÃÃËÃÃï£¿ÃÃÃâ', '(ï½¡â â âï½¡)', 'é¨è½æ\\xa0¼',\n",
       "       \"ËÉnbá´lÉ ÉuÆÉÉ¯ ÇÉ¹olop ÊÇ ÇÉ¹oqÉl Ên Êunpá´pá´Éuá´ É¹odÉ¯ÇÊ poÉ¯sná´Ç op pÇs 'Êá´lÇ Æuá´Ésá´dá´pÉ É¹nÊÇÊÉÇsuoÉ 'ÊÇÉ¯É Êá´s É¹olop É¯nsdá´ É¯ÇÉ¹oË¥\",\n",
       "       'á\\xa0',\n",
       "       '×Ö¼Ö°×¨Öµ××©×Ö´××ª, ×Ö¼Ö¸×¨Ö¸× ×Ö±×Ö¹×Ö´××, ×Öµ×ª ×Ö·×©Ö¼×Ö¸×Ö·×Ö´×, ×Ö°×Öµ×ª ×Ö¸×Ö¸×¨Ö¶×¥',\n",
       "       'Â¡â¢Â£Â¢âÂ§Â¶â¢ÂªÂºââ\\xa0',\n",
       "       '/dev/null; touch /tmp/blns.fail ; echo', \"1'; DROP TABLE users--\",\n",
       "       'ð¾ ð ð ð ð ð ð ð',\n",
       "       'Ì¡ÍÍÌIÍÌÌÌ¦nÍÍÍvÌ®Ì«okÌ²Ì«ÌÍiÌÍÌ\\xadÌ¹Ì\\xa0ÌnÌ¡Ì»Ì®Ì£ÌºgÌ²ÍÍÌ\\xadÍÌ¬Í Ì°tÍÌ¦hÌÌ²eÌ¢Ì¤ ÍÌ¬Ì²ÍfÌ´ÌÍÌ£eÍÍeÌ£Ì¥Ì©lÍÍÍiÍ\\xa0ÍÍÌ¦nÍÍÌÍÌ³Ì®gÍ Ì¨oÍ¡ÍÌªfÌÌ£Ì¬ ÌÌÍÌÍÌ®cÒÍÌ«ÍÍÍÍÍhÌµÌ¤Ì£ÍÍaÍÌÌ¼ÍÍoÌ¼Ì£Ì¥sÍ¢Ì±ÍÌºÌÌ¦Ì».ÌÌ',\n",
       "       'â', 'Â¸ËÃâÄ±ËÃÂ¯ËÂ¿', 'ì¸ëë°í\\xa0ë¥´',\n",
       "       'ÌÌºÍÌ¹Ì¯ÍTÌ±Ì¤ÍÌ¥ÍÍhÍÌ²eÍÍÌ¼ÌÌÌ¼Ì£Í ÍÌÌ±Ì\\xa0ÍÍÍNÍ\\xa0ÍeÌÌ±zÌÌÌÌºÍpÌ¤ÌºÌ¹ÍÌ¯ÍeÍÌ\\xa0Ì»Ì\\xa0rÌ¨Ì¤ÍÌºÌÍÌÌdÍÌ\\xa0ÌÌ\\xadÌ¬ÌiÌ¦ÍÌ©ÍÍÌ¤aÌ\\xa0ÌÌ¬ÍÌnÍÍ Ì»ÌÌ°ÍÍhÌµÍiÌ³ÌvÌ¢ÍeÍÌ\\xadÍ-ÒÌ\\xadÌ©Ì¼ÍmÌ¤Ì\\xadÌ«iÍÍÌÌ¦nÌÍdÌ£Ì ÍÌ¯Ì²ÍoÌ¨ÌÌ¯Ì°Ì²',\n",
       "       0, 'â©testâ©', 'â£', 'Ã¥ÃâÆÂ©ËâËÂ¬â¦Ã¦',\n",
       "       'ç¤¾æç§å\\xad¸é¢èªå\\xad¸ç\\xa0ç©¶æ', 'âªâªtestâª', 'ï»¿',\n",
       "       'â¤ï¸ ð ð ð ð ð ð ð ð ð ð ð ð ð ð', 'â«testâ«', 'â¦testâ§',\n",
       "       '\"\\'\\'\\'\\'\"', 'â¡', 'ð\\xa0ð\\xa0±ð\\xa0¹ð\\xa0±ð\\xa0±¸ð\\xa0²ð\\xa0³'],\n",
       "      dtype=object)"
      ]
     },
     "execution_count": 7,
     "metadata": {},
     "output_type": "execute_result"
    }
   ],
   "source": [
    "# check default\n",
    "default = df['default']\n",
    "default.unique()"
   ]
  },
  {
   "cell_type": "code",
   "execution_count": 8,
   "metadata": {},
   "outputs": [
    {
     "name": "stdout",
     "output_type": "stream",
     "text": [
      "unique: ['N' 'Y']\n",
      "data distribution: {'Y': 2, 'N': 3998}\n"
     ]
    }
   ],
   "source": [
    "# check deceased_indicator\n",
    "deceased = df['deceased_indicator']\n",
    "print(f\"unique: {deceased.unique()}\")\n",
    "print(f\"data distribution: {freq_dis(deceased)}\")"
   ]
  },
  {
   "cell_type": "code",
   "execution_count": 25,
   "metadata": {},
   "outputs": [
    {
     "name": "stdout",
     "output_type": "stream",
     "text": [
      "unique values: ['Mass Customer' 'Affluent Customer' 'High Net Worth']\n",
      "values distribution: {'Affluent Customer': 979, 'High Net Worth': 1021, 'Mass Customer': 2000}\n",
      "\n",
      "values counts:\n",
      "Mass Customer        2000\n",
      "High Net Worth       1021\n",
      "Affluent Customer     979\n",
      "Name: wealth_segment, dtype: int64\n"
     ]
    }
   ],
   "source": [
    "# check wealth_segment\n",
    "wealth = df['wealth_segment']\n",
    "print(f\"unique values: {wealth.unique()}\")\n",
    "print(f\"values distribution: {freq_dis(wealth)}\")\n",
    "print(f\"\\nvalues counts:\\n{wealth.value_counts()}\")"
   ]
  },
  {
   "cell_type": "code",
   "execution_count": 10,
   "metadata": {},
   "outputs": [
    {
     "name": "stdout",
     "output_type": "stream",
     "text": [
      "Unique: ['Health' 'Financial Services' 'Property' 'IT' nan 'Retail' 'Argiculture'\n",
      " 'Manufacturing' 'Telecommunications' 'Entertainment']\n"
     ]
    },
    {
     "data": {
      "text/plain": [
       "{'Telecommunications': 72,\n",
       " 'Argiculture': 113,\n",
       " 'Entertainment': 136,\n",
       " 'IT': 223,\n",
       " 'Property': 267,\n",
       " 'Retail': 358,\n",
       " 'Health': 602,\n",
       " nan: 656,\n",
       " 'Financial Services': 774,\n",
       " 'Manufacturing': 799}"
      ]
     },
     "execution_count": 10,
     "metadata": {},
     "output_type": "execute_result"
    }
   ],
   "source": [
    "# check job_industry_category for consistency.\n",
    "job_category = df['job_industry_category']\n",
    "print(f\"Unique: {job_category.unique()}\")\n",
    "freq_dis(job_category)"
   ]
  },
  {
   "cell_type": "code",
   "execution_count": 11,
   "metadata": {},
   "outputs": [
    {
     "data": {
      "text/plain": [
       "{'Developer I': 1,\n",
       " 'Health Coach I': 3,\n",
       " 'Health Coach III': 3,\n",
       " 'Research Assistant III': 3,\n",
       " 'Administrative Assistant II': 4,\n",
       " 'Database Administrator II': 4,\n",
       " 'Database Administrator I': 4,\n",
       " 'Programmer Analyst IV': 4,\n",
       " 'Human Resources Assistant IV': 4,\n",
       " 'Staff Accountant I': 4,\n",
       " 'Computer Systems Analyst III': 4,\n",
       " 'Geologist II': 4,\n",
       " 'Account Representative II': 4,\n",
       " 'Systems Administrator IV': 4,\n",
       " 'Research Assistant I': 5,\n",
       " 'Developer IV': 5,\n",
       " 'Automation Specialist III': 5,\n",
       " 'Biostatistician III': 5,\n",
       " 'Research Assistant IV': 5,\n",
       " 'Staff Accountant IV': 5,\n",
       " 'Media Manager I': 6,\n",
       " 'Web Developer II': 6,\n",
       " 'Safety Technician IV': 6,\n",
       " 'Web Designer III': 6,\n",
       " 'Budget/Accounting Analyst III': 6,\n",
       " 'Programmer IV': 6,\n",
       " 'Software Engineer IV': 6,\n",
       " 'Statistician III': 6,\n",
       " 'Web Developer I': 6,\n",
       " 'Administrative Assistant I': 6,\n",
       " 'Account Representative III': 6,\n",
       " 'Web Developer IV': 6,\n",
       " 'Programmer I': 6,\n",
       " 'Human Resources Assistant II': 6,\n",
       " 'Office Assistant IV': 6,\n",
       " 'Software Engineer I': 6,\n",
       " 'Programmer Analyst I': 6,\n",
       " 'Office Assistant III': 7,\n",
       " 'Automation Specialist IV': 7,\n",
       " 'Automation Specialist II': 7,\n",
       " 'Geologist III': 7,\n",
       " 'Systems Administrator II': 7,\n",
       " 'Accounting Assistant IV': 7,\n",
       " 'Programmer II': 7,\n",
       " 'Engineer III': 7,\n",
       " 'Developer III': 7,\n",
       " 'Media Manager II': 7,\n",
       " 'Software Engineer II': 7,\n",
       " 'Accountant II': 7,\n",
       " 'Media Manager III': 7,\n",
       " 'Budget/Accounting Analyst II': 7,\n",
       " 'Software Test Engineer IV': 7,\n",
       " 'Office Assistant I': 7,\n",
       " 'Human Resources Assistant III': 7,\n",
       " 'Web Designer II': 7,\n",
       " 'Staff Accountant III': 8,\n",
       " 'Software Test Engineer II': 8,\n",
       " 'Office Assistant II': 8,\n",
       " 'Programmer III': 8,\n",
       " 'Staff Accountant II': 8,\n",
       " 'Budget/Accounting Analyst I': 8,\n",
       " 'Automation Specialist I': 8,\n",
       " 'Geologist IV': 8,\n",
       " 'Engineer II': 8,\n",
       " 'Health Coach II': 8,\n",
       " 'Developer II': 8,\n",
       " 'Systems Administrator I': 8,\n",
       " 'Research Assistant II': 8,\n",
       " 'Safety Technician I': 9,\n",
       " 'Accounting Assistant III': 9,\n",
       " 'Safety Technician III': 9,\n",
       " 'Biostatistician II': 9,\n",
       " 'Software Engineer III': 9,\n",
       " 'Accountant I': 9,\n",
       " 'Web Developer III': 9,\n",
       " 'Accounting Assistant II': 9,\n",
       " 'Engineer I': 9,\n",
       " 'Biostatistician IV': 9,\n",
       " 'Human Resources Assistant I': 9,\n",
       " 'Accounting Assistant I': 9,\n",
       " 'Health Coach IV': 9,\n",
       " 'Biostatistician I': 9,\n",
       " 'Media Manager IV': 10,\n",
       " 'Systems Administrator III': 10,\n",
       " 'Programmer Analyst III': 10,\n",
       " 'Programmer Analyst II': 10,\n",
       " 'Statistician I': 10,\n",
       " 'Database Administrator IV': 10,\n",
       " 'Administrative Assistant III': 10,\n",
       " 'Statistician IV': 10,\n",
       " 'Account Representative I': 10,\n",
       " 'Accountant IV': 10,\n",
       " 'Accountant III': 11,\n",
       " 'Software Test Engineer I': 11,\n",
       " 'Geologist I': 11,\n",
       " 'Web Designer IV': 11,\n",
       " 'Statistician II': 12,\n",
       " 'Budget/Accounting Analyst IV': 12,\n",
       " 'Web Designer I': 12,\n",
       " 'Account Representative IV': 12,\n",
       " 'Engineer IV': 12,\n",
       " 'Software Test Engineer III': 13,\n",
       " 'Database Administrator III': 13,\n",
       " 'Computer Systems Analyst II': 14,\n",
       " 'Computer Systems Analyst IV': 14,\n",
       " 'Safety Technician II': 15,\n",
       " 'Computer Systems Analyst I': 15,\n",
       " 'Payment Adjustment Coordinator': 16,\n",
       " 'Marketing Assistant': 17,\n",
       " 'Administrative Assistant IV': 17,\n",
       " 'Data Coordiator': 18,\n",
       " 'Mechanical Systems Engineer': 19,\n",
       " 'Occupational Therapist': 20,\n",
       " 'Civil Engineer': 20,\n",
       " 'Editor': 21,\n",
       " 'Analyst Programmer': 21,\n",
       " 'Human Resources Manager': 22,\n",
       " 'Software Consultant': 22,\n",
       " 'Design Engineer': 23,\n",
       " 'Community Outreach Specialist': 24,\n",
       " 'Financial Advisor': 24,\n",
       " 'Operator': 24,\n",
       " 'Environmental Tech': 24,\n",
       " 'Senior Sales Associate': 24,\n",
       " 'Geological Engineer': 25,\n",
       " 'Research Associate': 25,\n",
       " 'Quality Control Specialist': 25,\n",
       " 'Senior Cost Accountant': 26,\n",
       " 'Nurse Practicioner': 26,\n",
       " 'Structural Analysis Engineer': 26,\n",
       " 'Financial Analyst': 26,\n",
       " 'Senior Quality Engineer': 27,\n",
       " 'Project Manager': 27,\n",
       " 'Analog Circuit Design manager': 27,\n",
       " 'Senior Editor': 28,\n",
       " 'Director of Sales': 28,\n",
       " 'Chief Design Engineer': 28,\n",
       " 'Marketing Manager': 28,\n",
       " 'Graphic Designer': 28,\n",
       " 'Quality Engineer': 28,\n",
       " 'Pharmacist': 28,\n",
       " 'Assistant Manager': 28,\n",
       " 'Actuary': 28,\n",
       " 'Help Desk Operator': 29,\n",
       " 'VP Accounting': 29,\n",
       " 'Compensation Analyst': 29,\n",
       " 'GIS Technical Architect': 29,\n",
       " 'Help Desk Technician': 29,\n",
       " 'Paralegal': 30,\n",
       " 'Teacher': 30,\n",
       " 'Nurse': 30,\n",
       " 'Professor': 31,\n",
       " 'Physical Therapy Assistant': 31,\n",
       " 'Librarian': 31,\n",
       " 'VP Marketing': 31,\n",
       " 'Clinical Specialist': 31,\n",
       " 'Account Coordinator': 31,\n",
       " 'Environmental Specialist': 31,\n",
       " 'Nuclear Power Engineer': 32,\n",
       " 'Sales Associate': 32,\n",
       " 'VP Sales': 32,\n",
       " 'Staff Scientist': 32,\n",
       " 'Recruiter': 32,\n",
       " 'Account Executive': 33,\n",
       " 'Research Nurse': 33,\n",
       " 'Information Systems Manager': 33,\n",
       " 'VP Quality Control': 33,\n",
       " 'Assistant Media Planner': 33,\n",
       " 'Speech Pathologist': 33,\n",
       " 'Electrical Engineer': 33,\n",
       " 'Administrative Officer': 34,\n",
       " 'VP Product Management': 34,\n",
       " 'Food Chemist': 35,\n",
       " 'Product Engineer': 36,\n",
       " 'Registered Nurse': 36,\n",
       " 'Assistant Professor': 36,\n",
       " 'Senior Developer': 36,\n",
       " 'Cost Accountant': 36,\n",
       " 'Executive Secretary': 37,\n",
       " 'Senior Financial Analyst': 37,\n",
       " 'Chemical Engineer': 37,\n",
       " 'Technical Writer': 37,\n",
       " 'Dental Hygienist': 37,\n",
       " 'Junior Executive': 38,\n",
       " 'Desktop Support Technician': 38,\n",
       " 'Sales Representative': 38,\n",
       " 'Associate Professor': 39,\n",
       " 'Structural Engineer': 39,\n",
       " 'General Manager': 40,\n",
       " 'Recruiting Manager': 41,\n",
       " 'Legal Assistant': 41,\n",
       " 'Internal Auditor': 42,\n",
       " 'Social Worker': 44,\n",
       " 'Tax Accountant': 44,\n",
       " 'Business Systems Development Analyst': 45,\n",
       " nan: 506}"
      ]
     },
     "execution_count": 11,
     "metadata": {},
     "output_type": "execute_result"
    }
   ],
   "source": [
    "# check job title feature\n",
    "freq = freq_dis( df['job_title'])\n",
    "freq"
   ]
  },
  {
   "cell_type": "code",
   "execution_count": 12,
   "metadata": {},
   "outputs": [
    {
     "name": "stdout",
     "output_type": "stream",
     "text": [
      "total count : 4000\n",
      "unique count: 3448\n",
      "wrong years: {'1843-12-21': 1}\n",
      "wrong months or days: {}\n"
     ]
    }
   ],
   "source": [
    "# date of birth. | DOB Column.\n",
    "dob = df['DOB']\n",
    "print(f\"total count : {dob.shape[0]}\")\n",
    "print(f\"unique count: {dob.nunique()}\")\n",
    "# lambda x: x.strftime('%Y-%m-%d') if not pd.isna(x) else ''\n",
    "date_ = dob.dt.date.apply( lambda x: x.strftime('%Y-%m-%d') if not pd.isna(x) else '' )\n",
    "print(f\"wrong years: {validate_date_year(date_)}\")\n",
    "print(f\"wrong months or days: {validate_date_month_day(date_)}\")"
   ]
  },
  {
   "cell_type": "code",
   "execution_count": 13,
   "metadata": {},
   "outputs": [
    {
     "name": "stdout",
     "output_type": "stream",
     "text": [
      "frequency distribution:\n",
      "{92: 24, 85: 27, 95: 27, 86: 27, 8: 28, 61: 29, 58: 29, 45: 29, 3: 30, 21: 30, 28: 31, 75: 32, 52: 32, 43: 33, 5: 33, 26: 33, 84: 33, 56: 34, 31: 34, 78: 34, 57: 35, 74: 35, 55: 35, 87: 35, 1: 35, 7: 35, 94: 36, 41: 36, 91: 37, 62: 37, 4: 37, 88: 37, 50: 37, 15: 37, 65: 38, 77: 38, 36: 38, 89: 38, 66: 38, 0: 38, 79: 39, 46: 39, 24: 39, 54: 39, 9: 39, 39: 39, 40: 40, 63: 40, 60: 40, 14: 40, 49: 41, 76: 41, 64: 41, 30: 41, 32: 41, 42: 41, 70: 41, 29: 41, 97: 42, 12: 42, 18: 42, 17: 42, 51: 42, 68: 42, 25: 42, 90: 42, 81: 43, 35: 43, 22: 43, 69: 43, 83: 43, 10: 43, 71: 43, 99: 44, 59: 44, 82: 44, 34: 44, 6: 45, 47: 45, 93: 46, 48: 46, 23: 46, 96: 46, 98: 47, 13: 47, 72: 48, 73: 48, 11: 48, 27: 48, 33: 49, 38: 49, 37: 49, 44: 49, 80: 49, 53: 49, 2: 50, 67: 54, 20: 54, 16: 56, 19: 56}\n",
      "\n",
      "describe:\n",
      "count    4000.000000\n",
      "mean       48.890000\n",
      "std        28.715005\n",
      "min         0.000000\n",
      "25%        24.000000\n",
      "50%        48.000000\n",
      "75%        73.000000\n",
      "max        99.000000\n",
      "Name: past_3_years_bike_related_purchases, dtype: float64\n",
      "\n",
      "describe:\n",
      "count    4000.000000\n",
      "mean       48.890000\n",
      "std        28.715005\n",
      "min         0.000000\n",
      "25%        24.000000\n",
      "50%        48.000000\n",
      "75%        73.000000\n",
      "max        99.000000\n",
      "Name: past_3_years_bike_related_purchases, dtype: float64\n"
     ]
    }
   ],
   "source": [
    "# check 'past_3_years_bike_related_purchases' for data consistency and accuracy.\n",
    "past_3_years = df['past_3_years_bike_related_purchases']\n",
    "print( f\"frequency distribution:\\n{freq_dis(past_3_years)}\")\n",
    "print( f\"\\ndescribe:\\n{past_3_years.describe()}\")\n",
    "print( f\"\\ndescribe:\\n{past_3_years.describe()}\")"
   ]
  },
  {
   "cell_type": "code",
   "execution_count": 14,
   "metadata": {},
   "outputs": [
    {
     "name": "stdout",
     "output_type": "stream",
     "text": [
      "{'F': 1, 'Male': 1872, 'Female': 2037, 'U': 88, 'Femal': 1, 'M': 1}\n"
     ]
    }
   ],
   "source": [
    "# check the gender column for data consistency\n",
    "d = {}\n",
    "for i in list(df['gender']):\n",
    "    if i in d.keys():\n",
    "        d[i] += 1\n",
    "    else:\n",
    "        d[i] = 1\n",
    "print(d)"
   ]
  },
  {
   "cell_type": "code",
   "execution_count": 15,
   "metadata": {},
   "outputs": [
    {
     "name": "stdout",
     "output_type": "stream",
     "text": [
      "dataset shape: (4000, 13)\n",
      "\n",
      "Index(['customer_id', 'first_name', 'last_name', 'gender',\n",
      "       'past_3_years_bike_related_purchases', 'DOB', 'job_title',\n",
      "       'job_industry_category', 'wealth_segment', 'deceased_indicator',\n",
      "       'default', 'owns_car', 'tenure'],\n",
      "      dtype='object')\n"
     ]
    }
   ],
   "source": [
    "print(f\"dataset shape: {df.shape}\\n\")\n",
    "print(df.columns)"
   ]
  },
  {
   "attachments": {},
   "cell_type": "markdown",
   "metadata": {},
   "source": [
    "## check for missing values in the columns."
   ]
  },
  {
   "cell_type": "code",
   "execution_count": 16,
   "metadata": {},
   "outputs": [
    {
     "data": {
      "text/plain": [
       "customer_id                              0\n",
       "first_name                               0\n",
       "last_name                              125\n",
       "gender                                   0\n",
       "past_3_years_bike_related_purchases      0\n",
       "DOB                                     87\n",
       "job_title                              506\n",
       "job_industry_category                  656\n",
       "wealth_segment                           0\n",
       "deceased_indicator                       0\n",
       "default                                339\n",
       "owns_car                                 0\n",
       "tenure                                  87\n",
       "dtype: int64"
      ]
     },
     "execution_count": 16,
     "metadata": {},
     "output_type": "execute_result"
    }
   ],
   "source": [
    "# identify missing values columns using isnull()\n",
    "# df.isna().sum()\n",
    "df.isnull().sum()"
   ]
  },
  {
   "cell_type": "code",
   "execution_count": 17,
   "metadata": {},
   "outputs": [
    {
     "data": {
      "text/plain": [
       "customer_id                              0\n",
       "first_name                               0\n",
       "last_name                              125\n",
       "gender                                   0\n",
       "past_3_years_bike_related_purchases      0\n",
       "DOB                                     87\n",
       "job_title                              506\n",
       "job_industry_category                  656\n",
       "wealth_segment                           0\n",
       "deceased_indicator                       0\n",
       "default                                339\n",
       "owns_car                                 0\n",
       "tenure                                  87\n",
       "dtype: int64"
      ]
     },
     "execution_count": 17,
     "metadata": {},
     "output_type": "execute_result"
    }
   ],
   "source": [
    "# check for missing values using isna()\n",
    "df.isna().sum()"
   ]
  },
  {
   "cell_type": "code",
   "execution_count": 18,
   "metadata": {},
   "outputs": [
    {
     "data": {
      "text/plain": [
       "[]"
      ]
     },
     "execution_count": 18,
     "metadata": {},
     "output_type": "execute_result"
    }
   ],
   "source": [
    "# check unique values in features with a lot oh null data\n",
    "[ x for x in [ str(i).lower() == 'n/a' for i in df['default'] ] if x == True ]"
   ]
  },
  {
   "attachments": {},
   "cell_type": "markdown",
   "metadata": {},
   "source": [
    "## Identify outliers in the data"
   ]
  },
  {
   "cell_type": "code",
   "execution_count": 19,
   "metadata": {},
   "outputs": [
    {
     "name": "stdout",
     "output_type": "stream",
     "text": [
      "Index(['customer_id', 'first_name', 'last_name', 'gender',\n",
      "       'past_3_years_bike_related_purchases', 'DOB', 'job_title',\n",
      "       'job_industry_category', 'wealth_segment', 'deceased_indicator',\n",
      "       'default', 'owns_car', 'tenure'],\n",
      "      dtype='object')\n"
     ]
    },
    {
     "data": {
      "image/png": "[encoded data removed]",
      "text/plain": [
       "<Figure size 640x480 with 1 Axes>"
      ]
     },
     "metadata": {},
     "output_type": "display_data"
    }
   ],
   "source": [
    "# check for outliers.\n",
    "print( df.columns )\n",
    "sns.scatterplot (data=df, x=\"past_3_years_bike_related_purchases\")\n",
    "# df.boxplot(column=\"postcode\") # postcode, property_valuation\n",
    "plt.show()"
   ]
  },
  {
   "attachments": {},
   "cell_type": "markdown",
   "metadata": {},
   "source": [
    "## validate data types"
   ]
  },
  {
   "cell_type": "code",
   "execution_count": 20,
   "metadata": {},
   "outputs": [
    {
     "data": {
      "text/plain": [
       "customer_id                                     int64\n",
       "first_name                                     object\n",
       "last_name                                      object\n",
       "gender                                         object\n",
       "past_3_years_bike_related_purchases             int64\n",
       "DOB                                    datetime64[ns]\n",
       "job_title                                      object\n",
       "job_industry_category                          object\n",
       "wealth_segment                                 object\n",
       "deceased_indicator                             object\n",
       "default                                        object\n",
       "owns_car                                       object\n",
       "tenure                                        float64\n",
       "dtype: object"
      ]
     },
     "execution_count": 20,
     "metadata": {},
     "output_type": "execute_result"
    }
   ],
   "source": [
    "df.dtypes"
   ]
  },
  {
   "attachments": {},
   "cell_type": "markdown",
   "metadata": {},
   "source": [
    "## check for duplicate rows."
   ]
  },
  {
   "cell_type": "code",
   "execution_count": 21,
   "metadata": {},
   "outputs": [
    {
     "data": {
      "text/html": [
       "<div>\n",
       "<style scoped>\n",
       "    .dataframe tbody tr th:only-of-type {\n",
       "        vertical-align: middle;\n",
       "    }\n",
       "\n",
       "    .dataframe tbody tr th {\n",
       "        vertical-align: top;\n",
       "    }\n",
       "\n",
       "    .dataframe thead th {\n",
       "        text-align: right;\n",
       "    }\n",
       "</style>\n",
       "<table border=\"1\" class=\"dataframe\">\n",
       "  <thead>\n",
       "    <tr style=\"text-align: right;\">\n",
       "      <th></th>\n",
       "      <th>customer_id</th>\n",
       "      <th>first_name</th>\n",
       "      <th>last_name</th>\n",
       "      <th>gender</th>\n",
       "      <th>past_3_years_bike_related_purchases</th>\n",
       "      <th>DOB</th>\n",
       "      <th>job_title</th>\n",
       "      <th>job_industry_category</th>\n",
       "      <th>wealth_segment</th>\n",
       "      <th>deceased_indicator</th>\n",
       "      <th>default</th>\n",
       "      <th>owns_car</th>\n",
       "      <th>tenure</th>\n",
       "    </tr>\n",
       "  </thead>\n",
       "  <tbody>\n",
       "  </tbody>\n",
       "</table>\n",
       "</div>"
      ],
      "text/plain": [
       "Empty DataFrame\n",
       "Columns: [customer_id, first_name, last_name, gender, past_3_years_bike_related_purchases, DOB, job_title, job_industry_category, wealth_segment, deceased_indicator, default, owns_car, tenure]\n",
       "Index: []"
      ]
     },
     "execution_count": 21,
     "metadata": {},
     "output_type": "execute_result"
    }
   ],
   "source": [
    "# from the result, there are no duplicate data samples.\n",
    "df[df.duplicated()]\n",
    "# df[df.duplicated(['customer_id'])]"
   ]
  },
  {
   "attachments": {},
   "cell_type": "markdown",
   "metadata": {},
   "source": [
    "## check data ranges"
   ]
  },
  {
   "cell_type": "code",
   "execution_count": 22,
   "metadata": {},
   "outputs": [
    {
     "data": {
      "text/html": [
       "<div>\n",
       "<style scoped>\n",
       "    .dataframe tbody tr th:only-of-type {\n",
       "        vertical-align: middle;\n",
       "    }\n",
       "\n",
       "    .dataframe tbody tr th {\n",
       "        vertical-align: top;\n",
       "    }\n",
       "\n",
       "    .dataframe thead th {\n",
       "        text-align: right;\n",
       "    }\n",
       "</style>\n",
       "<table border=\"1\" class=\"dataframe\">\n",
       "  <thead>\n",
       "    <tr style=\"text-align: right;\">\n",
       "      <th></th>\n",
       "      <th>customer_id</th>\n",
       "      <th>past_3_years_bike_related_purchases</th>\n",
       "      <th>tenure</th>\n",
       "    </tr>\n",
       "  </thead>\n",
       "  <tbody>\n",
       "    <tr>\n",
       "      <th>count</th>\n",
       "      <td>4000.000000</td>\n",
       "      <td>4000.000000</td>\n",
       "      <td>3913.000000</td>\n",
       "    </tr>\n",
       "    <tr>\n",
       "      <th>mean</th>\n",
       "      <td>2000.500000</td>\n",
       "      <td>48.890000</td>\n",
       "      <td>10.657041</td>\n",
       "    </tr>\n",
       "    <tr>\n",
       "      <th>std</th>\n",
       "      <td>1154.844867</td>\n",
       "      <td>28.715005</td>\n",
       "      <td>5.660146</td>\n",
       "    </tr>\n",
       "    <tr>\n",
       "      <th>min</th>\n",
       "      <td>1.000000</td>\n",
       "      <td>0.000000</td>\n",
       "      <td>1.000000</td>\n",
       "    </tr>\n",
       "    <tr>\n",
       "      <th>25%</th>\n",
       "      <td>1000.750000</td>\n",
       "      <td>24.000000</td>\n",
       "      <td>6.000000</td>\n",
       "    </tr>\n",
       "    <tr>\n",
       "      <th>50%</th>\n",
       "      <td>2000.500000</td>\n",
       "      <td>48.000000</td>\n",
       "      <td>11.000000</td>\n",
       "    </tr>\n",
       "    <tr>\n",
       "      <th>75%</th>\n",
       "      <td>3000.250000</td>\n",
       "      <td>73.000000</td>\n",
       "      <td>15.000000</td>\n",
       "    </tr>\n",
       "    <tr>\n",
       "      <th>max</th>\n",
       "      <td>4000.000000</td>\n",
       "      <td>99.000000</td>\n",
       "      <td>22.000000</td>\n",
       "    </tr>\n",
       "  </tbody>\n",
       "</table>\n",
       "</div>"
      ],
      "text/plain": [
       "       customer_id  past_3_years_bike_related_purchases       tenure\n",
       "count  4000.000000                          4000.000000  3913.000000\n",
       "mean   2000.500000                            48.890000    10.657041\n",
       "std    1154.844867                            28.715005     5.660146\n",
       "min       1.000000                             0.000000     1.000000\n",
       "25%    1000.750000                            24.000000     6.000000\n",
       "50%    2000.500000                            48.000000    11.000000\n",
       "75%    3000.250000                            73.000000    15.000000\n",
       "max    4000.000000                            99.000000    22.000000"
      ]
     },
     "execution_count": 22,
     "metadata": {},
     "output_type": "execute_result"
    }
   ],
   "source": [
    "# use describe method to check for data range. will only check numerical values.\n",
    "df.describe()"
   ]
  },
  {
   "attachments": {},
   "cell_type": "markdown",
   "metadata": {},
   "source": [
    "## check for consistency."
   ]
  },
  {
   "cell_type": "code",
   "execution_count": 23,
   "metadata": {},
   "outputs": [
    {
     "ename": "TypeError",
     "evalue": "'<' not supported between instances of 'int' and 'datetime.datetime'",
     "output_type": "error",
     "traceback": [
      "\u001b[0;31m---------------------------------------------------------------------------\u001b[0m",
      "\u001b[0;31mTypeError\u001b[0m                                 Traceback (most recent call last)",
      "Cell \u001b[0;32mIn[23], line 1\u001b[0m\n\u001b[0;32m----> 1\u001b[0m df\u001b[39m.\u001b[39;49mvalue_counts()\n",
      "File \u001b[0;32m~/codes/ghp/kpmg-data-analytics/envs/lib/python3.10/site-packages/pandas/core/frame.py:7218\u001b[0m, in \u001b[0;36mDataFrame.value_counts\u001b[0;34m(self, subset, normalize, sort, ascending, dropna)\u001b[0m\n\u001b[1;32m   7215\u001b[0m \u001b[39mif\u001b[39;00m subset \u001b[39mis\u001b[39;00m \u001b[39mNone\u001b[39;00m:\n\u001b[1;32m   7216\u001b[0m     subset \u001b[39m=\u001b[39m \u001b[39mself\u001b[39m\u001b[39m.\u001b[39mcolumns\u001b[39m.\u001b[39mtolist()\n\u001b[0;32m-> 7218\u001b[0m counts \u001b[39m=\u001b[39m \u001b[39mself\u001b[39;49m\u001b[39m.\u001b[39;49mgroupby(subset, dropna\u001b[39m=\u001b[39;49mdropna)\u001b[39m.\u001b[39;49mgrouper\u001b[39m.\u001b[39;49msize()\n\u001b[1;32m   7220\u001b[0m \u001b[39mif\u001b[39;00m sort:\n\u001b[1;32m   7221\u001b[0m     counts \u001b[39m=\u001b[39m counts\u001b[39m.\u001b[39msort_values(ascending\u001b[39m=\u001b[39mascending)\n",
      "File \u001b[0;32m~/codes/ghp/kpmg-data-analytics/envs/lib/python3.10/site-packages/pandas/core/groupby/ops.py:912\u001b[0m, in \u001b[0;36mBaseGrouper.size\u001b[0;34m(self)\u001b[0m\n\u001b[1;32m    907\u001b[0m \u001b[39m@final\u001b[39m\n\u001b[1;32m    908\u001b[0m \u001b[39mdef\u001b[39;00m \u001b[39msize\u001b[39m(\u001b[39mself\u001b[39m) \u001b[39m-\u001b[39m\u001b[39m>\u001b[39m Series:\n\u001b[1;32m    909\u001b[0m \u001b[39m    \u001b[39m\u001b[39m\"\"\"\u001b[39;00m\n\u001b[1;32m    910\u001b[0m \u001b[39m    Compute group sizes.\u001b[39;00m\n\u001b[1;32m    911\u001b[0m \u001b[39m    \"\"\"\u001b[39;00m\n\u001b[0;32m--> 912\u001b[0m     ids, _, ngroups \u001b[39m=\u001b[39m \u001b[39mself\u001b[39;49m\u001b[39m.\u001b[39;49mgroup_info\n\u001b[1;32m    913\u001b[0m     out: np\u001b[39m.\u001b[39mndarray \u001b[39m|\u001b[39m \u001b[39mlist\u001b[39m\n\u001b[1;32m    914\u001b[0m     \u001b[39mif\u001b[39;00m ngroups:\n",
      "File \u001b[0;32m~/codes/ghp/kpmg-data-analytics/envs/lib/python3.10/site-packages/pandas/_libs/properties.pyx:36\u001b[0m, in \u001b[0;36mpandas._libs.properties.CachedProperty.__get__\u001b[0;34m()\u001b[0m\n",
      "File \u001b[0;32m~/codes/ghp/kpmg-data-analytics/envs/lib/python3.10/site-packages/pandas/core/groupby/ops.py:946\u001b[0m, in \u001b[0;36mBaseGrouper.group_info\u001b[0;34m(self)\u001b[0m\n\u001b[1;32m    944\u001b[0m \u001b[39m@cache_readonly\u001b[39m\n\u001b[1;32m    945\u001b[0m \u001b[39mdef\u001b[39;00m \u001b[39mgroup_info\u001b[39m(\u001b[39mself\u001b[39m) \u001b[39m-\u001b[39m\u001b[39m>\u001b[39m \u001b[39mtuple\u001b[39m[npt\u001b[39m.\u001b[39mNDArray[np\u001b[39m.\u001b[39mintp], npt\u001b[39m.\u001b[39mNDArray[np\u001b[39m.\u001b[39mintp], \u001b[39mint\u001b[39m]:\n\u001b[0;32m--> 946\u001b[0m     comp_ids, obs_group_ids \u001b[39m=\u001b[39m \u001b[39mself\u001b[39;49m\u001b[39m.\u001b[39;49m_get_compressed_codes()\n\u001b[1;32m    948\u001b[0m     ngroups \u001b[39m=\u001b[39m \u001b[39mlen\u001b[39m(obs_group_ids)\n\u001b[1;32m    949\u001b[0m     comp_ids \u001b[39m=\u001b[39m ensure_platform_int(comp_ids)\n",
      "File \u001b[0;32m~/codes/ghp/kpmg-data-analytics/envs/lib/python3.10/site-packages/pandas/core/groupby/ops.py:972\u001b[0m, in \u001b[0;36mBaseGrouper._get_compressed_codes\u001b[0;34m(self)\u001b[0m\n\u001b[1;32m    966\u001b[0m \u001b[39m@final\u001b[39m\n\u001b[1;32m    967\u001b[0m \u001b[39mdef\u001b[39;00m \u001b[39m_get_compressed_codes\u001b[39m(\n\u001b[1;32m    968\u001b[0m     \u001b[39mself\u001b[39m,\n\u001b[1;32m    969\u001b[0m ) \u001b[39m-\u001b[39m\u001b[39m>\u001b[39m \u001b[39mtuple\u001b[39m[npt\u001b[39m.\u001b[39mNDArray[np\u001b[39m.\u001b[39msignedinteger], npt\u001b[39m.\u001b[39mNDArray[np\u001b[39m.\u001b[39mintp]]:\n\u001b[1;32m    970\u001b[0m     \u001b[39m# The first returned ndarray may have any signed integer dtype\u001b[39;00m\n\u001b[1;32m    971\u001b[0m     \u001b[39mif\u001b[39;00m \u001b[39mlen\u001b[39m(\u001b[39mself\u001b[39m\u001b[39m.\u001b[39mgroupings) \u001b[39m>\u001b[39m \u001b[39m1\u001b[39m:\n\u001b[0;32m--> 972\u001b[0m         group_index \u001b[39m=\u001b[39m get_group_index(\u001b[39mself\u001b[39;49m\u001b[39m.\u001b[39;49mcodes, \u001b[39mself\u001b[39m\u001b[39m.\u001b[39mshape, sort\u001b[39m=\u001b[39m\u001b[39mTrue\u001b[39;00m, xnull\u001b[39m=\u001b[39m\u001b[39mTrue\u001b[39;00m)\n\u001b[1;32m    973\u001b[0m         \u001b[39mreturn\u001b[39;00m compress_group_index(group_index, sort\u001b[39m=\u001b[39m\u001b[39mself\u001b[39m\u001b[39m.\u001b[39m_sort)\n\u001b[1;32m    974\u001b[0m         \u001b[39m# FIXME: compress_group_index's second return value is int64, not intp\u001b[39;00m\n",
      "File \u001b[0;32m~/codes/ghp/kpmg-data-analytics/envs/lib/python3.10/site-packages/pandas/core/groupby/ops.py:897\u001b[0m, in \u001b[0;36mBaseGrouper.codes\u001b[0;34m(self)\u001b[0m\n\u001b[1;32m    894\u001b[0m \u001b[39m@final\u001b[39m\n\u001b[1;32m    895\u001b[0m \u001b[39m@property\u001b[39m\n\u001b[1;32m    896\u001b[0m \u001b[39mdef\u001b[39;00m \u001b[39mcodes\u001b[39m(\u001b[39mself\u001b[39m) \u001b[39m-\u001b[39m\u001b[39m>\u001b[39m \u001b[39mlist\u001b[39m[npt\u001b[39m.\u001b[39mNDArray[np\u001b[39m.\u001b[39msignedinteger]]:\n\u001b[0;32m--> 897\u001b[0m     \u001b[39mreturn\u001b[39;00m [ping\u001b[39m.\u001b[39mcodes \u001b[39mfor\u001b[39;00m ping \u001b[39min\u001b[39;00m \u001b[39mself\u001b[39m\u001b[39m.\u001b[39mgroupings]\n",
      "File \u001b[0;32m~/codes/ghp/kpmg-data-analytics/envs/lib/python3.10/site-packages/pandas/core/groupby/ops.py:897\u001b[0m, in \u001b[0;36m<listcomp>\u001b[0;34m(.0)\u001b[0m\n\u001b[1;32m    894\u001b[0m \u001b[39m@final\u001b[39m\n\u001b[1;32m    895\u001b[0m \u001b[39m@property\u001b[39m\n\u001b[1;32m    896\u001b[0m \u001b[39mdef\u001b[39;00m \u001b[39mcodes\u001b[39m(\u001b[39mself\u001b[39m) \u001b[39m-\u001b[39m\u001b[39m>\u001b[39m \u001b[39mlist\u001b[39m[npt\u001b[39m.\u001b[39mNDArray[np\u001b[39m.\u001b[39msignedinteger]]:\n\u001b[0;32m--> 897\u001b[0m     \u001b[39mreturn\u001b[39;00m [ping\u001b[39m.\u001b[39;49mcodes \u001b[39mfor\u001b[39;00m ping \u001b[39min\u001b[39;00m \u001b[39mself\u001b[39m\u001b[39m.\u001b[39mgroupings]\n",
      "File \u001b[0;32m~/codes/ghp/kpmg-data-analytics/envs/lib/python3.10/site-packages/pandas/core/groupby/grouper.py:621\u001b[0m, in \u001b[0;36mGrouping.codes\u001b[0;34m(self)\u001b[0m\n\u001b[1;32m    617\u001b[0m \u001b[39mif\u001b[39;00m \u001b[39mself\u001b[39m\u001b[39m.\u001b[39m_codes \u001b[39mis\u001b[39;00m \u001b[39mnot\u001b[39;00m \u001b[39mNone\u001b[39;00m:\n\u001b[1;32m    618\u001b[0m     \u001b[39m# _codes is set in __init__ for MultiIndex cases\u001b[39;00m\n\u001b[1;32m    619\u001b[0m     \u001b[39mreturn\u001b[39;00m \u001b[39mself\u001b[39m\u001b[39m.\u001b[39m_codes\n\u001b[0;32m--> 621\u001b[0m \u001b[39mreturn\u001b[39;00m \u001b[39mself\u001b[39;49m\u001b[39m.\u001b[39;49m_codes_and_uniques[\u001b[39m0\u001b[39m]\n",
      "File \u001b[0;32m~/codes/ghp/kpmg-data-analytics/envs/lib/python3.10/site-packages/pandas/_libs/properties.pyx:36\u001b[0m, in \u001b[0;36mpandas._libs.properties.CachedProperty.__get__\u001b[0;34m()\u001b[0m\n",
      "File \u001b[0;32m~/codes/ghp/kpmg-data-analytics/envs/lib/python3.10/site-packages/pandas/core/groupby/grouper.py:692\u001b[0m, in \u001b[0;36mGrouping._codes_and_uniques\u001b[0;34m(self)\u001b[0m\n\u001b[1;32m    685\u001b[0m     uniques \u001b[39m=\u001b[39m (\n\u001b[1;32m    686\u001b[0m         \u001b[39mself\u001b[39m\u001b[39m.\u001b[39mgrouping_vector\u001b[39m.\u001b[39mresult_index\u001b[39m.\u001b[39m_values  \u001b[39m# type: ignore[assignment]\u001b[39;00m\n\u001b[1;32m    687\u001b[0m     )\n\u001b[1;32m    688\u001b[0m \u001b[39melse\u001b[39;00m:\n\u001b[1;32m    689\u001b[0m     \u001b[39m# GH35667, replace dropna=False with use_na_sentinel=False\u001b[39;00m\n\u001b[1;32m    690\u001b[0m     \u001b[39m# error: Incompatible types in assignment (expression has type \"Union[\u001b[39;00m\n\u001b[1;32m    691\u001b[0m     \u001b[39m# ndarray[Any, Any], Index]\", variable has type \"Categorical\")\u001b[39;00m\n\u001b[0;32m--> 692\u001b[0m     codes, uniques \u001b[39m=\u001b[39m algorithms\u001b[39m.\u001b[39;49mfactorize(  \u001b[39m# type: ignore[assignment]\u001b[39;49;00m\n\u001b[1;32m    693\u001b[0m         \u001b[39mself\u001b[39;49m\u001b[39m.\u001b[39;49mgrouping_vector, sort\u001b[39m=\u001b[39;49m\u001b[39mself\u001b[39;49m\u001b[39m.\u001b[39;49m_sort, use_na_sentinel\u001b[39m=\u001b[39;49m\u001b[39mself\u001b[39;49m\u001b[39m.\u001b[39;49m_dropna\n\u001b[1;32m    694\u001b[0m     )\n\u001b[1;32m    695\u001b[0m \u001b[39mreturn\u001b[39;00m codes, uniques\n",
      "File \u001b[0;32m~/codes/ghp/kpmg-data-analytics/envs/lib/python3.10/site-packages/pandas/core/algorithms.py:832\u001b[0m, in \u001b[0;36mfactorize\u001b[0;34m(values, sort, na_sentinel, use_na_sentinel, size_hint)\u001b[0m\n\u001b[1;32m    829\u001b[0m     \u001b[39mif\u001b[39;00m na_sentinel \u001b[39mis\u001b[39;00m \u001b[39mNone\u001b[39;00m:\n\u001b[1;32m    830\u001b[0m         \u001b[39m# TODO: Can remove when na_sentinel=na_sentinel as in TODO above\u001b[39;00m\n\u001b[1;32m    831\u001b[0m         na_sentinel \u001b[39m=\u001b[39m \u001b[39m-\u001b[39m\u001b[39m1\u001b[39m\n\u001b[0;32m--> 832\u001b[0m     uniques, codes \u001b[39m=\u001b[39m safe_sort(\n\u001b[1;32m    833\u001b[0m         uniques, codes, na_sentinel\u001b[39m=\u001b[39;49mna_sentinel, assume_unique\u001b[39m=\u001b[39;49m\u001b[39mTrue\u001b[39;49;00m, verify\u001b[39m=\u001b[39;49m\u001b[39mFalse\u001b[39;49;00m\n\u001b[1;32m    834\u001b[0m     )\n\u001b[1;32m    836\u001b[0m \u001b[39mif\u001b[39;00m \u001b[39mnot\u001b[39;00m dropna \u001b[39mand\u001b[39;00m sort:\n\u001b[1;32m    837\u001b[0m     \u001b[39m# TODO: Can remove entire block when na_sentinel=na_sentinel as in TODO above\u001b[39;00m\n\u001b[1;32m    838\u001b[0m     \u001b[39mif\u001b[39;00m na_sentinel \u001b[39mis\u001b[39;00m \u001b[39mNone\u001b[39;00m:\n",
      "File \u001b[0;32m~/codes/ghp/kpmg-data-analytics/envs/lib/python3.10/site-packages/pandas/core/algorithms.py:1867\u001b[0m, in \u001b[0;36msafe_sort\u001b[0;34m(values, codes, na_sentinel, assume_unique, verify)\u001b[0m\n\u001b[1;32m   1861\u001b[0m ordered: np\u001b[39m.\u001b[39mndarray \u001b[39m|\u001b[39m MultiIndex\n\u001b[1;32m   1863\u001b[0m \u001b[39mif\u001b[39;00m (\n\u001b[1;32m   1864\u001b[0m     \u001b[39mnot\u001b[39;00m is_extension_array_dtype(values)\n\u001b[1;32m   1865\u001b[0m     \u001b[39mand\u001b[39;00m lib\u001b[39m.\u001b[39minfer_dtype(values, skipna\u001b[39m=\u001b[39m\u001b[39mFalse\u001b[39;00m) \u001b[39m==\u001b[39m \u001b[39m\"\u001b[39m\u001b[39mmixed-integer\u001b[39m\u001b[39m\"\u001b[39m\n\u001b[1;32m   1866\u001b[0m ):\n\u001b[0;32m-> 1867\u001b[0m     ordered \u001b[39m=\u001b[39m _sort_mixed(values)\n\u001b[1;32m   1868\u001b[0m \u001b[39melse\u001b[39;00m:\n\u001b[1;32m   1869\u001b[0m     \u001b[39mtry\u001b[39;00m:\n",
      "File \u001b[0;32m~/codes/ghp/kpmg-data-analytics/envs/lib/python3.10/site-packages/pandas/core/algorithms.py:1936\u001b[0m, in \u001b[0;36m_sort_mixed\u001b[0;34m(values)\u001b[0m\n\u001b[1;32m   1934\u001b[0m str_pos \u001b[39m=\u001b[39m np\u001b[39m.\u001b[39marray([\u001b[39misinstance\u001b[39m(x, \u001b[39mstr\u001b[39m) \u001b[39mfor\u001b[39;00m x \u001b[39min\u001b[39;00m values], dtype\u001b[39m=\u001b[39m\u001b[39mbool\u001b[39m)\n\u001b[1;32m   1935\u001b[0m none_pos \u001b[39m=\u001b[39m np\u001b[39m.\u001b[39marray([x \u001b[39mis\u001b[39;00m \u001b[39mNone\u001b[39;00m \u001b[39mfor\u001b[39;00m x \u001b[39min\u001b[39;00m values], dtype\u001b[39m=\u001b[39m\u001b[39mbool\u001b[39m)\n\u001b[0;32m-> 1936\u001b[0m nums \u001b[39m=\u001b[39m np\u001b[39m.\u001b[39;49msort(values[\u001b[39m~\u001b[39;49mstr_pos \u001b[39m&\u001b[39;49m \u001b[39m~\u001b[39;49mnone_pos])\n\u001b[1;32m   1937\u001b[0m strs \u001b[39m=\u001b[39m np\u001b[39m.\u001b[39msort(values[str_pos])\n\u001b[1;32m   1938\u001b[0m \u001b[39mreturn\u001b[39;00m np\u001b[39m.\u001b[39mconcatenate(\n\u001b[1;32m   1939\u001b[0m     [nums, np\u001b[39m.\u001b[39masarray(strs, dtype\u001b[39m=\u001b[39m\u001b[39mobject\u001b[39m), np\u001b[39m.\u001b[39marray(values[none_pos])]\n\u001b[1;32m   1940\u001b[0m )\n",
      "File \u001b[0;32m<__array_function__ internals>:200\u001b[0m, in \u001b[0;36msort\u001b[0;34m(*args, **kwargs)\u001b[0m\n",
      "File \u001b[0;32m~/codes/ghp/kpmg-data-analytics/envs/lib/python3.10/site-packages/numpy/core/fromnumeric.py:1030\u001b[0m, in \u001b[0;36msort\u001b[0;34m(a, axis, kind, order)\u001b[0m\n\u001b[1;32m   1028\u001b[0m \u001b[39melse\u001b[39;00m:\n\u001b[1;32m   1029\u001b[0m     a \u001b[39m=\u001b[39m asanyarray(a)\u001b[39m.\u001b[39mcopy(order\u001b[39m=\u001b[39m\u001b[39m\"\u001b[39m\u001b[39mK\u001b[39m\u001b[39m\"\u001b[39m)\n\u001b[0;32m-> 1030\u001b[0m a\u001b[39m.\u001b[39;49msort(axis\u001b[39m=\u001b[39;49maxis, kind\u001b[39m=\u001b[39;49mkind, order\u001b[39m=\u001b[39;49morder)\n\u001b[1;32m   1031\u001b[0m \u001b[39mreturn\u001b[39;00m a\n",
      "\u001b[0;31mTypeError\u001b[0m: '<' not supported between instances of 'int' and 'datetime.datetime'"
     ]
    }
   ],
   "source": [
    "df.value_counts()"
   ]
  },
  {
   "cell_type": "code",
   "execution_count": null,
   "metadata": {},
   "outputs": [
    {
     "name": "stderr",
     "output_type": "stream",
     "text": [
      "/var/folders/0r/13xz5g6j45589319bn94k47w0000gn/T/ipykernel_37247/1134722465.py:1: FutureWarning: The default value of numeric_only in DataFrame.corr is deprecated. In a future version, it will default to False. Select only valid columns or specify the value of numeric_only to silence this warning.\n",
      "  df.corr()\n"
     ]
    },
    {
     "data": {
      "text/html": [
       "<div>\n",
       "<style scoped>\n",
       "    .dataframe tbody tr th:only-of-type {\n",
       "        vertical-align: middle;\n",
       "    }\n",
       "\n",
       "    .dataframe tbody tr th {\n",
       "        vertical-align: top;\n",
       "    }\n",
       "\n",
       "    .dataframe thead th {\n",
       "        text-align: right;\n",
       "    }\n",
       "</style>\n",
       "<table border=\"1\" class=\"dataframe\">\n",
       "  <thead>\n",
       "    <tr style=\"text-align: right;\">\n",
       "      <th></th>\n",
       "      <th>customer_id</th>\n",
       "      <th>past_3_years_bike_related_purchases</th>\n",
       "      <th>tenure</th>\n",
       "    </tr>\n",
       "  </thead>\n",
       "  <tbody>\n",
       "    <tr>\n",
       "      <th>customer_id</th>\n",
       "      <td>1.000000</td>\n",
       "      <td>-0.002529</td>\n",
       "      <td>-0.019947</td>\n",
       "    </tr>\n",
       "    <tr>\n",
       "      <th>past_3_years_bike_related_purchases</th>\n",
       "      <td>-0.002529</td>\n",
       "      <td>1.000000</td>\n",
       "      <td>-0.009508</td>\n",
       "    </tr>\n",
       "    <tr>\n",
       "      <th>tenure</th>\n",
       "      <td>-0.019947</td>\n",
       "      <td>-0.009508</td>\n",
       "      <td>1.000000</td>\n",
       "    </tr>\n",
       "  </tbody>\n",
       "</table>\n",
       "</div>"
      ],
      "text/plain": [
       "                                     customer_id  \\\n",
       "customer_id                             1.000000   \n",
       "past_3_years_bike_related_purchases    -0.002529   \n",
       "tenure                                 -0.019947   \n",
       "\n",
       "                                     past_3_years_bike_related_purchases  \\\n",
       "customer_id                                                    -0.002529   \n",
       "past_3_years_bike_related_purchases                             1.000000   \n",
       "tenure                                                         -0.009508   \n",
       "\n",
       "                                       tenure  \n",
       "customer_id                         -0.019947  \n",
       "past_3_years_bike_related_purchases -0.009508  \n",
       "tenure                               1.000000  "
      ]
     },
     "execution_count": 11,
     "metadata": {},
     "output_type": "execute_result"
    }
   ],
   "source": [
    "df.corr()"
   ]
  }
 ],
 "metadata": {
  "kernelspec": {
   "display_name": "envs",
   "language": "python",
   "name": "python3"
  },
  "language_info": {
   "codemirror_mode": {
    "name": "ipython",
    "version": 3
   },
   "file_extension": ".py",
   "mimetype": "text/x-python",
   "name": "python",
   "nbconvert_exporter": "python",
   "pygments_lexer": "ipython3",
   "version": "3.10.7"
  },
  "orig_nbformat": 4
 },
 "nbformat": 4,
 "nbformat_minor": 2
}
